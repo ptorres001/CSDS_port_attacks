{
 "cells": [
  {
   "cell_type": "code",
   "execution_count": 3,
   "metadata": {},
   "outputs": [
    {
     "name": "stdout",
     "output_type": "stream",
     "text": [
      "20\n"
     ]
    }
   ],
   "source": [
    "import pandas as pd\n",
    "import numpy as np\n",
    "\n",
    "print (pd.options.display.max_columns) # <--- this will display your limit\n",
    "pd.set_option('display.max_columns', None)"
   ]
  },
  {
   "cell_type": "code",
   "execution_count": 4,
   "metadata": {},
   "outputs": [],
   "source": [
    "df = pd.read_csv('archive/Cybersecurity_attacks.csv')"
   ]
  },
  {
   "cell_type": "code",
   "execution_count": 5,
   "metadata": {},
   "outputs": [
    {
     "data": {
      "text/plain": [
       "array(['Attack category', 'Attack subcategory', 'Protocol', 'Source IP',\n",
       "       'Source Port', 'Destination IP', 'Destination Port', 'Attack Name',\n",
       "       'Attack Reference', '.', 'Time'], dtype=object)"
      ]
     },
     "execution_count": 5,
     "metadata": {},
     "output_type": "execute_result"
    }
   ],
   "source": [
    "df.columns.values"
   ]
  },
  {
   "cell_type": "code",
   "execution_count": 6,
   "metadata": {},
   "outputs": [
    {
     "name": "stdout",
     "output_type": "stream",
     "text": [
      "(178031, 11)\n"
     ]
    },
    {
     "data": {
      "text/html": [
       "<div>\n",
       "<style scoped>\n",
       "    .dataframe tbody tr th:only-of-type {\n",
       "        vertical-align: middle;\n",
       "    }\n",
       "\n",
       "    .dataframe tbody tr th {\n",
       "        vertical-align: top;\n",
       "    }\n",
       "\n",
       "    .dataframe thead th {\n",
       "        text-align: right;\n",
       "    }\n",
       "</style>\n",
       "<table border=\"1\" class=\"dataframe\">\n",
       "  <thead>\n",
       "    <tr style=\"text-align: right;\">\n",
       "      <th></th>\n",
       "      <th>Attack category</th>\n",
       "      <th>Attack subcategory</th>\n",
       "      <th>Protocol</th>\n",
       "      <th>Source IP</th>\n",
       "      <th>Source Port</th>\n",
       "      <th>Destination IP</th>\n",
       "      <th>Destination Port</th>\n",
       "      <th>Attack Name</th>\n",
       "      <th>Attack Reference</th>\n",
       "      <th>.</th>\n",
       "      <th>Time</th>\n",
       "    </tr>\n",
       "  </thead>\n",
       "  <tbody>\n",
       "    <tr>\n",
       "      <th>0</th>\n",
       "      <td>Reconnaissance</td>\n",
       "      <td>HTTP</td>\n",
       "      <td>tcp</td>\n",
       "      <td>175.45.176.0</td>\n",
       "      <td>13284</td>\n",
       "      <td>149.171.126.16</td>\n",
       "      <td>80</td>\n",
       "      <td>Domino Web Server Database Access: /doladmin.n...</td>\n",
       "      <td>-</td>\n",
       "      <td>.</td>\n",
       "      <td>1421927414-1421927416</td>\n",
       "    </tr>\n",
       "    <tr>\n",
       "      <th>1</th>\n",
       "      <td>Exploits</td>\n",
       "      <td>Unix 'r' Service</td>\n",
       "      <td>udp</td>\n",
       "      <td>175.45.176.3</td>\n",
       "      <td>21223</td>\n",
       "      <td>149.171.126.18</td>\n",
       "      <td>32780</td>\n",
       "      <td>Solaris rwalld Format String Vulnerability (ht...</td>\n",
       "      <td>CVE 2002-0573 (http://cve.mitre.org/cgi-bin/cv...</td>\n",
       "      <td>.</td>\n",
       "      <td>1421927415-1421927415</td>\n",
       "    </tr>\n",
       "    <tr>\n",
       "      <th>2</th>\n",
       "      <td>Exploits</td>\n",
       "      <td>Browser</td>\n",
       "      <td>tcp</td>\n",
       "      <td>175.45.176.2</td>\n",
       "      <td>23357</td>\n",
       "      <td>149.171.126.16</td>\n",
       "      <td>80</td>\n",
       "      <td>Windows Metafile (WMF) SetAbortProc() Code Exe...</td>\n",
       "      <td>CVE 2005-4560 (http://cve.mitre.org/cgi-bin/cv...</td>\n",
       "      <td>.</td>\n",
       "      <td>1421927416-1421927416</td>\n",
       "    </tr>\n",
       "    <tr>\n",
       "      <th>3</th>\n",
       "      <td>Exploits</td>\n",
       "      <td>Miscellaneous Batch</td>\n",
       "      <td>tcp</td>\n",
       "      <td>175.45.176.2</td>\n",
       "      <td>13792</td>\n",
       "      <td>149.171.126.16</td>\n",
       "      <td>5555</td>\n",
       "      <td>HP Data Protector Backup (https://strikecenter...</td>\n",
       "      <td>CVE 2011-1729 (http://cve.mitre.org/cgi-bin/cv...</td>\n",
       "      <td>.</td>\n",
       "      <td>1421927417-1421927417</td>\n",
       "    </tr>\n",
       "    <tr>\n",
       "      <th>4</th>\n",
       "      <td>Exploits</td>\n",
       "      <td>Cisco IOS</td>\n",
       "      <td>tcp</td>\n",
       "      <td>175.45.176.2</td>\n",
       "      <td>26939</td>\n",
       "      <td>149.171.126.10</td>\n",
       "      <td>80</td>\n",
       "      <td>Cisco IOS HTTP Authentication Bypass Level 64 ...</td>\n",
       "      <td>CVE 2001-0537 (http://cve.mitre.org/cgi-bin/cv...</td>\n",
       "      <td>.</td>\n",
       "      <td>1421927418-1421927418</td>\n",
       "    </tr>\n",
       "  </tbody>\n",
       "</table>\n",
       "</div>"
      ],
      "text/plain": [
       "  Attack category   Attack subcategory Protocol     Source IP  Source Port  \\\n",
       "0  Reconnaissance                 HTTP      tcp  175.45.176.0        13284   \n",
       "1        Exploits     Unix 'r' Service      udp  175.45.176.3        21223   \n",
       "2        Exploits              Browser      tcp  175.45.176.2        23357   \n",
       "3        Exploits  Miscellaneous Batch      tcp  175.45.176.2        13792   \n",
       "4        Exploits           Cisco IOS       tcp  175.45.176.2        26939   \n",
       "\n",
       "   Destination IP  Destination Port  \\\n",
       "0  149.171.126.16                80   \n",
       "1  149.171.126.18             32780   \n",
       "2  149.171.126.16                80   \n",
       "3  149.171.126.16              5555   \n",
       "4  149.171.126.10                80   \n",
       "\n",
       "                                         Attack Name  \\\n",
       "0  Domino Web Server Database Access: /doladmin.n...   \n",
       "1  Solaris rwalld Format String Vulnerability (ht...   \n",
       "2  Windows Metafile (WMF) SetAbortProc() Code Exe...   \n",
       "3  HP Data Protector Backup (https://strikecenter...   \n",
       "4  Cisco IOS HTTP Authentication Bypass Level 64 ...   \n",
       "\n",
       "                                    Attack Reference  .                   Time  \n",
       "0                                                  -  .  1421927414-1421927416  \n",
       "1  CVE 2002-0573 (http://cve.mitre.org/cgi-bin/cv...  .  1421927415-1421927415  \n",
       "2  CVE 2005-4560 (http://cve.mitre.org/cgi-bin/cv...  .  1421927416-1421927416  \n",
       "3  CVE 2011-1729 (http://cve.mitre.org/cgi-bin/cv...  .  1421927417-1421927417  \n",
       "4  CVE 2001-0537 (http://cve.mitre.org/cgi-bin/cv...  .  1421927418-1421927418  "
      ]
     },
     "execution_count": 6,
     "metadata": {},
     "output_type": "execute_result"
    }
   ],
   "source": [
    "print(df.shape)\n",
    "df.head()"
   ]
  },
  {
   "cell_type": "code",
   "execution_count": 8,
   "metadata": {},
   "outputs": [
    {
     "data": {
      "text/plain": [
       "Exploits            69588\n",
       " Fuzzers            30145\n",
       "DoS                 25117\n",
       "Generic             20296\n",
       " Reconnaissance     18787\n",
       " Fuzzers             4216\n",
       "Backdoor             4192\n",
       "Analysis             1933\n",
       "Reconnaissance       1783\n",
       " Shellcode           1314\n",
       "Backdoors             259\n",
       "Shellcode             227\n",
       "Worms                 173\n",
       "Reconnaissance          1\n",
       "Name: Attack category, dtype: int64"
      ]
     },
     "execution_count": 8,
     "metadata": {},
     "output_type": "execute_result"
    }
   ],
   "source": [
    "df['Attack category'].value_counts()"
   ]
  },
  {
   "cell_type": "code",
   "execution_count": null,
   "metadata": {},
   "outputs": [],
   "source": []
  }
 ],
 "metadata": {
  "kernelspec": {
   "display_name": "Python 3",
   "language": "python",
   "name": "python3"
  },
  "language_info": {
   "codemirror_mode": {
    "name": "ipython",
    "version": 3
   },
   "file_extension": ".py",
   "mimetype": "text/x-python",
   "name": "python",
   "nbconvert_exporter": "python",
   "pygments_lexer": "ipython3",
   "version": "3.8.3"
  }
 },
 "nbformat": 4,
 "nbformat_minor": 4
}
