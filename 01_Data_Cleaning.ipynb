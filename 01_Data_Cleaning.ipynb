{
 "cells": [
  {
   "cell_type": "code",
   "execution_count": 9,
   "metadata": {},
   "outputs": [],
   "source": [
    "import pandas as pd\n",
    "import numpy as np\n",
    "\n",
    "\n",
    "import warnings\n",
    "warnings.filterwarnings('ignore')"
   ]
  },
  {
   "cell_type": "code",
   "execution_count": 2,
   "metadata": {},
   "outputs": [],
   "source": [
    "df = pd.read_csv('archive/Cybersecurity_attacks.csv')"
   ]
  },
  {
   "cell_type": "code",
   "execution_count": 3,
   "metadata": {},
   "outputs": [
    {
     "data": {
      "text/plain": [
       "array(['Attack category', 'Attack subcategory', 'Protocol', 'Source IP',\n",
       "       'Source Port', 'Destination IP', 'Destination Port', 'Attack Name',\n",
       "       'Attack Reference', '.', 'Time'], dtype=object)"
      ]
     },
     "execution_count": 3,
     "metadata": {},
     "output_type": "execute_result"
    }
   ],
   "source": [
    "df.columns.values"
   ]
  },
  {
   "cell_type": "markdown",
   "metadata": {},
   "source": [
    "## Attack Category Types\n",
    "1. Reconnaisance - attack gathers info about computer network to evade security controls\n",
    "2. Fuzzers - attack attempts to uncover security loopholes in a program, operating system, or network by feeding it massive random data entry to block it\n",
    "3. Backdoor - stealth technique to avoid normal authentication to ensure unauthorized remote access to a device\n",
    "4. Analysis - intrusion that penetrates web applications through ports, emails, or web scripts\n",
    "5. Exploit - sequence of instructions that exploits a flaw caused by involuntary behavior of host\n",
    "6. Generic - attempts against block encryption using a hash function for collision regardless of encryption settings\n",
    "7. Shellcode - attacker penetrates a small piece of code from shell to control the compromised shell\n",
    "8. Worm - attack replicates malicious script to spread to other computers. Often uses network to spread\n",
    "9. DoS - intrusion that disrupts computer resources, keeping them busy and unable to prevent unauthorized requests from accessing a device"
   ]
  },
  {
   "cell_type": "code",
   "execution_count": 4,
   "metadata": {},
   "outputs": [],
   "source": [
    "df = df[['Attack category', 'Attack subcategory', 'Protocol', 'Source IP',\n",
    "       'Source Port', 'Destination IP', 'Destination Port', 'Attack Name',\n",
    "       'Attack Reference', 'Time']]"
   ]
  },
  {
   "cell_type": "code",
   "execution_count": 5,
   "metadata": {},
   "outputs": [
    {
     "name": "stdout",
     "output_type": "stream",
     "text": [
      "(178031, 10)\n"
     ]
    },
    {
     "data": {
      "text/html": [
       "<div>\n",
       "<style scoped>\n",
       "    .dataframe tbody tr th:only-of-type {\n",
       "        vertical-align: middle;\n",
       "    }\n",
       "\n",
       "    .dataframe tbody tr th {\n",
       "        vertical-align: top;\n",
       "    }\n",
       "\n",
       "    .dataframe thead th {\n",
       "        text-align: right;\n",
       "    }\n",
       "</style>\n",
       "<table border=\"1\" class=\"dataframe\">\n",
       "  <thead>\n",
       "    <tr style=\"text-align: right;\">\n",
       "      <th></th>\n",
       "      <th>Attack category</th>\n",
       "      <th>Attack subcategory</th>\n",
       "      <th>Protocol</th>\n",
       "      <th>Source IP</th>\n",
       "      <th>Source Port</th>\n",
       "      <th>Destination IP</th>\n",
       "      <th>Destination Port</th>\n",
       "      <th>Attack Name</th>\n",
       "      <th>Attack Reference</th>\n",
       "      <th>Time</th>\n",
       "    </tr>\n",
       "  </thead>\n",
       "  <tbody>\n",
       "    <tr>\n",
       "      <th>0</th>\n",
       "      <td>Reconnaissance</td>\n",
       "      <td>HTTP</td>\n",
       "      <td>tcp</td>\n",
       "      <td>175.45.176.0</td>\n",
       "      <td>13284</td>\n",
       "      <td>149.171.126.16</td>\n",
       "      <td>80</td>\n",
       "      <td>Domino Web Server Database Access: /doladmin.n...</td>\n",
       "      <td>-</td>\n",
       "      <td>1421927414-1421927416</td>\n",
       "    </tr>\n",
       "    <tr>\n",
       "      <th>1</th>\n",
       "      <td>Exploits</td>\n",
       "      <td>Unix 'r' Service</td>\n",
       "      <td>udp</td>\n",
       "      <td>175.45.176.3</td>\n",
       "      <td>21223</td>\n",
       "      <td>149.171.126.18</td>\n",
       "      <td>32780</td>\n",
       "      <td>Solaris rwalld Format String Vulnerability (ht...</td>\n",
       "      <td>CVE 2002-0573 (http://cve.mitre.org/cgi-bin/cv...</td>\n",
       "      <td>1421927415-1421927415</td>\n",
       "    </tr>\n",
       "    <tr>\n",
       "      <th>2</th>\n",
       "      <td>Exploits</td>\n",
       "      <td>Browser</td>\n",
       "      <td>tcp</td>\n",
       "      <td>175.45.176.2</td>\n",
       "      <td>23357</td>\n",
       "      <td>149.171.126.16</td>\n",
       "      <td>80</td>\n",
       "      <td>Windows Metafile (WMF) SetAbortProc() Code Exe...</td>\n",
       "      <td>CVE 2005-4560 (http://cve.mitre.org/cgi-bin/cv...</td>\n",
       "      <td>1421927416-1421927416</td>\n",
       "    </tr>\n",
       "    <tr>\n",
       "      <th>3</th>\n",
       "      <td>Exploits</td>\n",
       "      <td>Miscellaneous Batch</td>\n",
       "      <td>tcp</td>\n",
       "      <td>175.45.176.2</td>\n",
       "      <td>13792</td>\n",
       "      <td>149.171.126.16</td>\n",
       "      <td>5555</td>\n",
       "      <td>HP Data Protector Backup (https://strikecenter...</td>\n",
       "      <td>CVE 2011-1729 (http://cve.mitre.org/cgi-bin/cv...</td>\n",
       "      <td>1421927417-1421927417</td>\n",
       "    </tr>\n",
       "    <tr>\n",
       "      <th>4</th>\n",
       "      <td>Exploits</td>\n",
       "      <td>Cisco IOS</td>\n",
       "      <td>tcp</td>\n",
       "      <td>175.45.176.2</td>\n",
       "      <td>26939</td>\n",
       "      <td>149.171.126.10</td>\n",
       "      <td>80</td>\n",
       "      <td>Cisco IOS HTTP Authentication Bypass Level 64 ...</td>\n",
       "      <td>CVE 2001-0537 (http://cve.mitre.org/cgi-bin/cv...</td>\n",
       "      <td>1421927418-1421927418</td>\n",
       "    </tr>\n",
       "  </tbody>\n",
       "</table>\n",
       "</div>"
      ],
      "text/plain": [
       "  Attack category   Attack subcategory Protocol     Source IP  Source Port  \\\n",
       "0  Reconnaissance                 HTTP      tcp  175.45.176.0        13284   \n",
       "1        Exploits     Unix 'r' Service      udp  175.45.176.3        21223   \n",
       "2        Exploits              Browser      tcp  175.45.176.2        23357   \n",
       "3        Exploits  Miscellaneous Batch      tcp  175.45.176.2        13792   \n",
       "4        Exploits           Cisco IOS       tcp  175.45.176.2        26939   \n",
       "\n",
       "   Destination IP  Destination Port  \\\n",
       "0  149.171.126.16                80   \n",
       "1  149.171.126.18             32780   \n",
       "2  149.171.126.16                80   \n",
       "3  149.171.126.16              5555   \n",
       "4  149.171.126.10                80   \n",
       "\n",
       "                                         Attack Name  \\\n",
       "0  Domino Web Server Database Access: /doladmin.n...   \n",
       "1  Solaris rwalld Format String Vulnerability (ht...   \n",
       "2  Windows Metafile (WMF) SetAbortProc() Code Exe...   \n",
       "3  HP Data Protector Backup (https://strikecenter...   \n",
       "4  Cisco IOS HTTP Authentication Bypass Level 64 ...   \n",
       "\n",
       "                                    Attack Reference                   Time  \n",
       "0                                                  -  1421927414-1421927416  \n",
       "1  CVE 2002-0573 (http://cve.mitre.org/cgi-bin/cv...  1421927415-1421927415  \n",
       "2  CVE 2005-4560 (http://cve.mitre.org/cgi-bin/cv...  1421927416-1421927416  \n",
       "3  CVE 2011-1729 (http://cve.mitre.org/cgi-bin/cv...  1421927417-1421927417  \n",
       "4  CVE 2001-0537 (http://cve.mitre.org/cgi-bin/cv...  1421927418-1421927418  "
      ]
     },
     "execution_count": 5,
     "metadata": {},
     "output_type": "execute_result"
    }
   ],
   "source": [
    "print(df.shape)\n",
    "df.head()"
   ]
  },
  {
   "cell_type": "code",
   "execution_count": 6,
   "metadata": {},
   "outputs": [
    {
     "data": {
      "text/plain": [
       "3496"
      ]
     },
     "execution_count": 6,
     "metadata": {},
     "output_type": "execute_result"
    }
   ],
   "source": [
    "len(df['Destination Port'].value_counts())"
   ]
  },
  {
   "cell_type": "code",
   "execution_count": 7,
   "metadata": {},
   "outputs": [
    {
     "data": {
      "text/plain": [
       "tcp           55220\n",
       "unas          25251\n",
       "udp           23794\n",
       "ospf           9736\n",
       "sctp           4444\n",
       "              ...  \n",
       "idpr-cmtp       393\n",
       "igp             393\n",
       "sprite-rpc      392\n",
       "ttp             392\n",
       "smp             392\n",
       "Name: Protocol, Length: 131, dtype: int64"
      ]
     },
     "execution_count": 7,
     "metadata": {},
     "output_type": "execute_result"
    }
   ],
   "source": [
    "df.Protocol.value_counts()"
   ]
  },
  {
   "cell_type": "code",
   "execution_count": null,
   "metadata": {},
   "outputs": [],
   "source": []
  },
  {
   "cell_type": "code",
   "execution_count": 6,
   "metadata": {},
   "outputs": [
    {
     "data": {
      "text/plain": [
       "Miscellaneous    0.221759\n",
       "IXIA             0.095309\n",
       " OSPF            0.074195\n",
       " ICMP            0.064258\n",
       "SMB              0.050064\n",
       "                   ...   \n",
       "Dameware         0.000006\n",
       "CUPS             0.000006\n",
       "SCTP             0.000006\n",
       "NetBIOS          0.000006\n",
       " SOCKS           0.000006\n",
       "Name: Attack subcategory, Length: 163, dtype: float64"
      ]
     },
     "execution_count": 6,
     "metadata": {},
     "output_type": "execute_result"
    }
   ],
   "source": [
    "df['Attack subcategory'].value_counts()/len(df)"
   ]
  },
  {
   "cell_type": "code",
   "execution_count": 7,
   "metadata": {},
   "outputs": [
    {
     "data": {
      "text/plain": [
       "Attack category           0\n",
       "Attack subcategory     4192\n",
       "Protocol                  0\n",
       "Source IP                 0\n",
       "Source Port               0\n",
       "Destination IP            0\n",
       "Destination Port          0\n",
       "Attack Name               0\n",
       "Attack Reference      51745\n",
       "Time                      0\n",
       "dtype: int64"
      ]
     },
     "execution_count": 7,
     "metadata": {},
     "output_type": "execute_result"
    }
   ],
   "source": [
    "df.isna().sum()"
   ]
  },
  {
   "cell_type": "code",
   "execution_count": null,
   "metadata": {},
   "outputs": [],
   "source": []
  }
 ],
 "metadata": {
  "kernelspec": {
   "display_name": "Python 3",
   "language": "python",
   "name": "python3"
  },
  "language_info": {
   "codemirror_mode": {
    "name": "ipython",
    "version": 3
   },
   "file_extension": ".py",
   "mimetype": "text/x-python",
   "name": "python",
   "nbconvert_exporter": "python",
   "pygments_lexer": "ipython3",
   "version": "3.8.3"
  }
 },
 "nbformat": 4,
 "nbformat_minor": 4
}
